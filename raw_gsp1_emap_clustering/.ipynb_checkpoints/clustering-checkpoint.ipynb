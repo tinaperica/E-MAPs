{
 "cells": [
  {
   "cell_type": "markdown",
   "metadata": {},
   "source": [
    "Title: Gsp1 EMAP clustering analysis\n",
    "Date: 2019 April 02\n",
    "Author: Chris Mathy\n",
    "Email: {chris.mathy@ucsf.edu, cjmathy@gmail.com}\n",
    "Description: Notebook to implement Clustering functional of\n",
    "    Cluster 3.0 in Python, using the Biopython module\n",
    "    Bio.Cluster\n",
    "\n",
    "http://bonsai.hgc.jp/~mdehoon/software/cluster/software.htm#pycluster\n",
    "http://bonsai.hgc.jp/~mdehoon/software/cluster/cluster.pdf"
   ]
  },
  {
   "cell_type": "code",
   "execution_count": 5,
   "metadata": {},
   "outputs": [
    {
     "data": {
      "text/plain": [
       "'1.55'"
      ]
     },
     "execution_count": 5,
     "metadata": {},
     "output_type": "execute_result"
    }
   ],
   "source": [
    "import Bio\n",
    "Bio.Cluster.__version__"
   ]
  },
  {
   "cell_type": "code",
   "execution_count": 287,
   "metadata": {},
   "outputs": [],
   "source": [
    "from Bio import Cluster\n",
    "import numpy as np\n",
    "import pandas as pd\n",
    "from collections import defaultdict"
   ]
  },
  {
   "cell_type": "code",
   "execution_count": 40,
   "metadata": {},
   "outputs": [],
   "source": [
    "# we read in the EMAP as a handle, then read the handle into a record object\n",
    "handle = open('gsp1_pEMAP_avg_merged_gene_names.txt')\n",
    "record = Cluster.read(handle)\n",
    "\n",
    "# our record contains:\n",
    "# -- the emap scores in record.data\n",
    "# -- the mutant names in record.geneid\n",
    "# -- the library gene names in record.expid\n",
    "# -- a \"mask\" matrix showing 0's for missing data in record.mask\n"
   ]
  },
  {
   "cell_type": "code",
   "execution_count": 253,
   "metadata": {},
   "outputs": [],
   "source": [
    "# cluster with centered correlation (dist=’c’) and average clustering (method == ’v’)\n",
    "\n",
    "# cluster rows (mutants)\n",
    "mutant_clustered = record.treecluster(transpose=False, method='a', dist='c')\n",
    "\n",
    "# cluster columns (library genes)\n",
    "library_clustered = record.treecluster(transpose=True, method='a', dist='c')\n",
    "\n",
    "# scale each, so that cluster distances are between zero and one,\n",
    "# for ease of viewing in Java TreeView\n",
    "mutant_clustered.scale()\n",
    "library_clustered.scale()"
   ]
  },
  {
   "cell_type": "code",
   "execution_count": 254,
   "metadata": {},
   "outputs": [],
   "source": [
    "record.save('avg_clustering', mutant_clustered, library_clustered)"
   ]
  },
  {
   "cell_type": "code",
   "execution_count": 269,
   "metadata": {},
   "outputs": [],
   "source": [
    "def cut_and_get_clusters(tree, nclusters, list_of_ids):\n",
    "    \n",
    "    # cut tree to get cluster assignments\n",
    "    assigned_clusters = tree.cut(nclusters)\n",
    "    \n",
    "    # count the number of members in each cluster\n",
    "    _, n_in_cluster = np.unique(assigned_clusters, return_counts=True)\n",
    "    \n",
    "    # count the number of clusters of a given size, return as a dict\n",
    "    n_members, n_clusters_of_that_size = np.unique(n_in_cluster, return_counts=True)\n",
    "    cluster_count_by_size = dict(zip(n_members, n_clusters_of_that_size))\n",
    "    \n",
    "    # make a dict of cluster:list pairs, where the list contains member names\n",
    "    clusters = defaultdict(list)\n",
    "    for i, cluster in enumerate(assigned_clusters):\n",
    "        clusters[cluster].append(list_of_ids[i])\n",
    "        \n",
    "    return dict(clusters), cluster_count_by_size"
   ]
  },
  {
   "cell_type": "code",
   "execution_count": 621,
   "metadata": {},
   "outputs": [],
   "source": [
    "cluster_dict, cluster_count_by_size = cut_and_get_clusters(library_clusters, 1200, record.expid)"
   ]
  },
  {
   "cell_type": "code",
   "execution_count": 622,
   "metadata": {
    "collapsed": true
   },
   "outputs": [
    {
     "data": {
      "text/plain": [
       "{428: ['MDM10',\n",
       "  'YUR1',\n",
       "  'CBF1',\n",
       "  'GAL80',\n",
       "  'RPS1B',\n",
       "  'UFO1',\n",
       "  'SGS1',\n",
       "  'BUL1',\n",
       "  'NGL2',\n",
       "  'ALG6'],\n",
       " 888: ['SWC3', 'SWR1', 'VPS72', 'ARP6', 'VPS71', 'HTZ1'],\n",
       " 322: ['DEP1', 'RXT2', 'SAP30', 'PHO23'],\n",
       " 1083: ['LTE1', 'PBY1', 'MUS81', 'CLA4'],\n",
       " 378: ['GEM1', 'MDM34', 'PFK2', 'MDM12'],\n",
       " 834: ['BUD14', 'KIN3', 'SUB1', 'MOT3', 'SCS7', 'MSG5'],\n",
       " 1085: ['IML3',\n",
       "  'CHL4',\n",
       "  'MCM21',\n",
       "  'NKP1',\n",
       "  'MAD1',\n",
       "  'MAD3',\n",
       "  'MAD2',\n",
       "  'MCM22',\n",
       "  'IRC15',\n",
       "  'CTF19',\n",
       "  'RMI1',\n",
       "  'MCM16'],\n",
       " 376: ['MUD1', 'GBP2', 'RAD18', 'YER077C', 'SPT23', 'NOT5'],\n",
       " 408: ['MRPL36', 'UBC5', 'CBT1', 'AMD1'],\n",
       " 846: ['PTC4', 'HUL5', 'LAG1', 'YAP5'],\n",
       " 1119: ['ARL1', 'SYS1', 'SNU66', 'ARL3'],\n",
       " 379: ['SSH1', 'UBP12', 'YAP1', 'FAR3'],\n",
       " 38: ['SGF29', 'ELP2', 'IKI1', 'ELP6', 'ELP3', 'ELP4'],\n",
       " 425: ['PET18', 'DIE2', 'RPB4', 'ASH1', 'AEP2', 'HST1', 'NTO1'],\n",
       " 380: ['RIM1',\n",
       "  'IMG2',\n",
       "  'CRD1',\n",
       "  'SUM1',\n",
       "  'RPO41',\n",
       "  'LOS1',\n",
       "  'MDM38',\n",
       "  'GSH2',\n",
       "  'PET123',\n",
       "  'DGK1',\n",
       "  'MIP1'],\n",
       " 409: ['RBK1', 'FIG2', 'HST4', 'PCT1', 'HUL4', 'GOT1', 'LEA1'],\n",
       " 377: ['PER1', 'ESC1', 'PRS5', 'SFL1'],\n",
       " 424: ['STP4', 'MSH6', 'PKH1', 'ERG5', 'TAT2'],\n",
       " 426: ['SLC1',\n",
       "  'PEX19',\n",
       "  'PEX3',\n",
       "  'PEX14',\n",
       "  'ENT3',\n",
       "  'BYE1',\n",
       "  'PEX1',\n",
       "  'IOC2',\n",
       "  'PEX12',\n",
       "  'GAS1',\n",
       "  'PEX6'],\n",
       " 955: ['IWR1', 'RIM101', 'RIM21', 'RIM20', 'CPA1'],\n",
       " 858: ['TPS2', 'SWP82', 'TOF2', 'POM152'],\n",
       " 957: ['NUM1', 'PAC11', 'ARP1', 'LDB18', 'JNM1', 'DYN3', 'NIP100'],\n",
       " 683: ['SAC3', 'SEM1', 'THP2', 'NUP133'],\n",
       " 733: ['SNF1', 'HST3', 'AKR2', 'WHI2'],\n",
       " 324: ['ERV14', 'SAP185', 'SIS2', 'IRC21'],\n",
       " 891: ['HOS4', 'MRT4', 'YKL023W', 'PAN3'],\n",
       " 1137: ['PBS2', 'SSK1', 'HOG1', 'SRC1', 'SSK2']}"
      ]
     },
     "execution_count": 622,
     "metadata": {},
     "output_type": "execute_result"
    }
   ],
   "source": [
    "{k:v for k,v in cluster_dict.items() if len(v) > 3}"
   ]
  },
  {
   "cell_type": "code",
   "execution_count": 618,
   "metadata": {
    "scrolled": false
   },
   "outputs": [],
   "source": [
    "library_gene_names = list(pd.read_csv('gsp1_pEMAP_avg_merged_gene_names.txt', sep='\\t').columns)[1:]\n",
    "library_gene_ORFs = list(pd.read_csv('gsp1_pEMAP_avg_merged.txt', sep='\\t').columns)[1:]\n",
    "gene_names_to_ORF = pd.DataFrame({'name': library_gene_names,'ORF': library_gene_ORFs})\n",
    "\n",
    "# remove ' - DAmP' and turn 'ORF - ORF' into 'ORF'\n",
    "gene_names_to_ORF['name'], _ = gene_names_to_ORF['name'].str.split(' - ', 1).str\n",
    "gene_names_to_ORF['ORF'], _ = gene_names_to_ORF['ORF'].str.split(' - ', 1).str"
   ]
  },
  {
   "cell_type": "code",
   "execution_count": 619,
   "metadata": {
    "scrolled": false
   },
   "outputs": [],
   "source": [
    "# get annotations from SGD, code generated from the following URL:\n",
    "# \"https://yeastmine.yeastgenome.org/yeastmine/results.do?trail=%257Cquery\"\n",
    "\n",
    "from intermine.webservice import Service\n",
    "service = Service(\"https://yeastmine.yeastgenome.org:443/yeastmine/service\")\n",
    "query = service.new_query(\"Gene\")\n",
    "query.add_view(\"secondaryIdentifier\", \"symbol\", \"name\", \"length\", \"sgdAlias\", \"description\")\n",
    "query.add_constraint(\"status\", \"IS NULL\", code = \"D\")\n",
    "query.add_constraint(\"status\", \"=\", \"Active\", code = \"C\")\n",
    "query.add_constraint(\"dataSets.name\", \"=\", \"SGD data set\", code = \"F\")\n",
    "query.add_constraint(\"organism.name\", \"=\", \"Saccharomyces cerevisiae\", code = \"E\")\n",
    "query.set_logic(\"(C or D) and E and F\")\n",
    "\n",
    "SGD_annotations = pd.DataFrame(query.results('dict'))\n",
    "cols = list(SGD_annotations.columns)\n",
    "SGD_annotations.columns = [col.split('.')[1] for col in cols]\n",
    "SGD_annotations = SGD_annotations.drop(['cytoLocation','featAttribute','geneSummary',\n",
    "                       'id','length','primaryIdentifier','qualifier',\n",
    "                       'score','scoreType','status'], axis=1)\n",
    "SGD_to_merge = SGD_annotations[['symbol','secondaryIdentifier','description','name']]\n",
    "SGD_to_merge.columns = ['name', 'ORF', 'description', 'name_meaning']"
   ]
  },
  {
   "cell_type": "code",
   "execution_count": 620,
   "metadata": {},
   "outputs": [],
   "source": [
    "df = pd.merge(gene_names_to_ORF, SGD_to_merge, how='left', on=['name','ORF'])\n",
    "\n",
    "# add in hand-curated descriptions from SGD that weren't in the yeastmine download\n",
    "# note, many unknown gene descriptions were left out\n",
    "df = pd.merge(df, pd.read_csv('missing_descriptions.txt', sep='\\t'), how = 'outer')\n",
    "\n",
    "# drop if description is empty (won't add any information)\n",
    "SGD_descriptions = df.loc[~pd.isnull(df.description)]"
   ]
  },
  {
   "cell_type": "code",
   "execution_count": null,
   "metadata": {},
   "outputs": [],
   "source": []
  }
 ],
 "metadata": {
  "kernelspec": {
   "display_name": "Python 3",
   "language": "python",
   "name": "python3"
  },
  "language_info": {
   "codemirror_mode": {
    "name": "ipython",
    "version": 3
   },
   "file_extension": ".py",
   "mimetype": "text/x-python",
   "name": "python",
   "nbconvert_exporter": "python",
   "pygments_lexer": "ipython3",
   "version": "3.7.2"
  }
 },
 "nbformat": 4,
 "nbformat_minor": 2
}
